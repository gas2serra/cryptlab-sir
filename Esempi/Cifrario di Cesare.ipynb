{
 "cells": [
  {
   "cell_type": "markdown",
   "metadata": {},
   "source": [
    "# Algo"
   ]
  },
  {
   "cell_type": "code",
   "execution_count": 29,
   "metadata": {
    "scrolled": true
   },
   "outputs": [
    {
     "name": "stdout",
     "output_type": "stream",
     "text": [
      "Digita una parola in lettera minuscola: ciao\n",
      "Digita il valore della distanza: 20\n",
      "wcui\n",
      "ciao\n"
     ]
    }
   ],
   "source": [
    "num_chars=ord('z')-ord('a')+1\n",
    "\n",
    "def encode(text,k):\n",
    "    code=\"\"\n",
    "    for ch in text:\n",
    "        ordValue=ord(ch)\n",
    "        cipherValue = ord('a')+(ordValue - ord('a') + k) % num_chars\n",
    "        code+=chr(cipherValue)\n",
    "    return code\n",
    "\n",
    "def decode(text,k):\n",
    "    code=\"\"\n",
    "    for ch in text:\n",
    "        ordValue=ord(ch)\n",
    "        cipherValue = ord('a')+(ordValue - ord('a') - k) % num_chars\n",
    "        code+=chr(cipherValue)\n",
    "    return code\n",
    "\n",
    "\n",
    "plainText=input(\"Digita una parola in lettera minuscola: \")\n",
    "distance=int(input(\"Digita il valore della distanza: \"))\n",
    "cipherText=encode(plainText,distance)\n",
    "print(cipherText)\n",
    "print(decode(cipherText,distance))\n"
   ]
  },
  {
   "cell_type": "code",
   "execution_count": null,
   "metadata": {
    "collapsed": true
   },
   "outputs": [],
   "source": []
  }
 ],
 "metadata": {
  "kernelspec": {
   "display_name": "Python 3",
   "language": "python",
   "name": "python3"
  },
  "language_info": {
   "codemirror_mode": {
    "name": "ipython",
    "version": 3
   },
   "file_extension": ".py",
   "mimetype": "text/x-python",
   "name": "python",
   "nbconvert_exporter": "python",
   "pygments_lexer": "ipython3",
   "version": "3.6.3"
  }
 },
 "nbformat": 4,
 "nbformat_minor": 2
}

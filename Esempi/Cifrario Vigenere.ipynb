{
 "cells": [
  {
   "cell_type": "code",
   "execution_count": 12,
   "metadata": {},
   "outputs": [
    {
     "name": "stdout",
     "output_type": "stream",
     "text": [
      "Digita una parola in lettera minuscola: ciaociaociao\n",
      "Digita la parola key: abc\n",
      "cjcodkapeibq\n",
      "ciaociaociao\n"
     ]
    }
   ],
   "source": [
    "baseAlphabet = ('a', 'b', 'c', 'd', 'e', 'f', 'g', 'h', 'i', 'j', 'k', 'l', 'm', 'n', 'o', 'p', 'q', 'r', 's', 't', 'u', 'v', 'w', 'x', 'y', 'z')\n",
    "\n",
    "def encode(plainText,key):\n",
    "    keyList = []\n",
    "    keyLength = 0\n",
    "    while keyLength < len(plainText):\n",
    "        for char in key:#Adds the users entered key into a list character by character. Also makes the key the same length as plainText\n",
    "            if keyLength < len(plainText):\n",
    "                keyList.append(str(char))\n",
    "                keyLength = keyLength + 1\n",
    "    completeCipherText = [] #The variable each processed letter is appended to\n",
    "    cipherCharIndexValue = 0#This is the value used to temporaily store the ciphertext character during the iteration\n",
    "    keyIncrement = 0\n",
    "    for plainTextChar in plainText:#iterates through the plain text\n",
    "        cipherCharIndexValue = baseAlphabet.index(keyList[keyIncrement]) + baseAlphabet.index(plainTextChar)#Adds the base alphabets index value of the key and the plain text char\n",
    "        while cipherCharIndexValue > 25:\n",
    "            cipherCharIndexValue = cipherCharIndexValue - 26#makes the addition value under 26 as to not go out of range of base alphabet tuple\n",
    "        completeCipherText.append(baseAlphabet[cipherCharIndexValue])#appends the ciphertext character to the completeCipherText variable. The character is the index of the key + index of the plainTextChar from baseAlphabet\n",
    "        keyIncrement = keyIncrement + 1#Moves onto the next key\n",
    "    return ''.join(completeCipherText) #Makes the result a strings for printing to the console.\n",
    "\n",
    "def decode(plainText,key):\n",
    "    keyList = []\n",
    "    keyLength = 0\n",
    "    while keyLength < len(plainText):\n",
    "        for char in key:#Adds the users entered key into a list character by character. Also makes the key the same length as plainText\n",
    "            if keyLength < len(plainText):\n",
    "                keyList.append(str(char))\n",
    "                keyLength = keyLength + 1\n",
    "    completeCipherText = [] #The variable each processed letter is appended to\n",
    "    cipherCharIndexValue = 0#This is the value used to temporaily store the ciphertext character during the iteration\n",
    "    keyIncrement = 0\n",
    "    for plainTextChar in plainText:#iterates through the plain text\n",
    "        cipherCharIndexValue = - baseAlphabet.index(keyList[keyIncrement]) + baseAlphabet.index(plainTextChar)#Adds the base alphabets index value of the key and the plain text char\n",
    "        while cipherCharIndexValue < 0:\n",
    "            cipherCharIndexValue = cipherCharIndexValue + 26#makes the addition value under 26 as to not go out of range of base alphabet tuple\n",
    "        completeCipherText.append(baseAlphabet[cipherCharIndexValue])#appends the ciphertext character to the completeCipherText variable. The character is the index of the key + index of the plainTextChar from baseAlphabet\n",
    "        keyIncrement = keyIncrement + 1#Moves onto the next key\n",
    "    return ''.join(completeCipherText) #Makes the result a strings for printing to the console\n",
    "\n",
    "plainText=input(\"Digita una parola in lettera minuscola: \")\n",
    "key=input(\"Digita la parola key: \")\n",
    "cipherText=encode(plainText,key)\n",
    "print(cipherText)\n",
    "print(decode(cipherText,key))"
   ]
  },
  {
   "cell_type": "code",
   "execution_count": null,
   "metadata": {
    "collapsed": true
   },
   "outputs": [],
   "source": []
  }
 ],
 "metadata": {
  "kernelspec": {
   "display_name": "Python 3",
   "language": "python",
   "name": "python3"
  },
  "language_info": {
   "codemirror_mode": {
    "name": "ipython",
    "version": 3
   },
   "file_extension": ".py",
   "mimetype": "text/x-python",
   "name": "python",
   "nbconvert_exporter": "python",
   "pygments_lexer": "ipython3",
   "version": "3.6.3"
  }
 },
 "nbformat": 4,
 "nbformat_minor": 2
}

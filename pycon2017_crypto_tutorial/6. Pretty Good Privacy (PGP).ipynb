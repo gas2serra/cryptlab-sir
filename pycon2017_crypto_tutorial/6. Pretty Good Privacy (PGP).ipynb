{
 "cells": [
  {
   "cell_type": "markdown",
   "metadata": {},
   "source": [
    "# Pretty Good Privacy (PGP)\n",
    "\n",
    " - A data encryption/decryption tool\n",
    " - Can be used to encrypt and authenticate email, files, etc.\n",
    " - Created by Phil Zimmermann in 1991\n",
    " - A practical hybrid system that uses symmetric and asymmetric crypto\n",
    "\n",
    "<img src=\"include/PGP_diagram.png\" width=700>\n",
    "\n",
    "image source: wikipedia"
   ]
  },
  {
   "cell_type": "code",
   "execution_count": 1,
   "metadata": {
    "collapsed": true
   },
   "outputs": [],
   "source": [
    "#Use GCM\n",
    "def enc_key(public_key, message):\n",
    "    pass\n",
    "\n",
    "def dec_key(private_key, ciphertext):\n",
    "    pass\n",
    "\n",
    "def enc_msg(key, iv, msg):\n",
    "    pass\n",
    "\n",
    "def dec_msg(key, iv, ciphertext):\n",
    "    pass"
   ]
  },
  {
   "cell_type": "code",
   "execution_count": null,
   "metadata": {
    "collapsed": true
   },
   "outputs": [],
   "source": [
    "k1 = os.urandom(16)\n",
    "iv = os.urandom(16)\n",
    "msg = b\"PyCon 2017 Crypto!!\"\n",
    "\n",
    "cipher = enc_msg(k1, iv, msg)\n",
    "encrypted_key = enc_key(public_key, k1)\n",
    "\n",
    "decrypted_key = dec_key(private_key, encrypted_key)\n",
    "plaintext = dec_msg(decrypted_key, iv, cipher)"
   ]
  }
 ],
 "metadata": {
  "kernelspec": {
   "display_name": "Python 3",
   "language": "python",
   "name": "python3"
  },
  "language_info": {
   "codemirror_mode": {
    "name": "ipython",
    "version": 3
   },
   "file_extension": ".py",
   "mimetype": "text/x-python",
   "name": "python",
   "nbconvert_exporter": "python",
   "pygments_lexer": "ipython3",
   "version": "3.6.1"
  }
 },
 "nbformat": 4,
 "nbformat_minor": 2
}
